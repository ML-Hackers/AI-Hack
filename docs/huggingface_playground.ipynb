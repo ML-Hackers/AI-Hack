{
 "cells": [
  {
   "cell_type": "markdown",
   "id": "f4ffff08-a331-4da9-a460-1ae550313936",
   "metadata": {},
   "source": [
    "# Huggingface Ecosystem\n",
    "\n",
    "- Prepare the following:\n",
    "    - Dataset\n",
    "        - loading\n",
    "        - preprocessing\n",
    "        - tokenization\n",
    "    - Model\n",
    "        - loading\n",
    "        - storage location\n",
    "        - model architecture / code\n",
    "        - model parameters\n",
    "        - model weights / checkpoints\n",
    "            - How weights are loaded into the memory\n",
    "        - model training (pytorch)\n",
    "        - inference\n",
    "-\n",
    "- Inferencing is presented by Ossi!"
   ]
  },
  {
   "cell_type": "markdown",
   "id": "7fa38786-8801-4194-9fde-0467a74952cb",
   "metadata": {},
   "source": [
    "Huggingface Ecosystem is composed of mainly two parts:\n",
    "- Family of libraries\n",
    "    - Provides code\n",
    "- Hub\n",
    "    - Provides pretrained model weights, datasets, scripts (evaluation) etc.\n",
    "\n",
    "<img src='../images/hf_eco.png' width=65%, alt=\"Hugging Face Ecosystem\">\n",
    "\n",
    "Huggingface library (ecosystem) offers the following important artefacts among many others:\n",
    "- Huggingface [Datasets 🤗](https://huggingface.co/docs/datasets/index)\n",
    "    - Audio datasets\n",
    "    - Computer vision datasets\n",
    "    - NLP datasets\n",
    "- Huggingface [Tokenizers](https://huggingface.co/docs/tokenizers/index)\n",
    "- Huggingface [Transformers](https://huggingface.co/docs/transformers/index)\n",
    "- Huggingface [Model Hub](https://huggingface.co/docs/hub/models)\n",
    "- Pipeline ??"
   ]
  },
  {
   "cell_type": "markdown",
   "id": "681893a5-9af6-430f-95f4-c267fc6e0cb0",
   "metadata": {},
   "source": [
    "### Hugging Face Pipelines\n",
    "Hugging Face Transformers has a layered API architecture that allows you to interact with the library at various level of abstraction. Pipeline is one of the highest level API that abstracts away all the steps needed to process the inputs and make predictions. It is a great tool to quickly get predictions from a model without having to write any code.\n",
    "\n",
    "A typical huggingface pipeline looks like this:\n",
    "\n",
    "**🤗 Datasets** (data_load, data_prep) >> **🤗 Tokenizers** (tokenize_text) >> **🤗 Transformers** (load_model, train/fine-tune, infer) >> **🤗 Datasets** (load_metrics, evaluate)"
   ]
  },
  {
   "cell_type": "code",
   "execution_count": 1,
   "id": "16a7170e",
   "metadata": {},
   "outputs": [],
   "source": [
    "from transformers import pipeline"
   ]
  },
  {
   "cell_type": "markdown",
   "id": "bab990ce",
   "metadata": {},
   "source": [
    "#### Text Classification (Sentiment Analysis) Pipeline"
   ]
  },
  {
   "cell_type": "code",
   "execution_count": 2,
   "id": "85b49754",
   "metadata": {},
   "outputs": [
    {
     "name": "stderr",
     "output_type": "stream",
     "text": [
      "No model was supplied, defaulted to distilbert-base-uncased-finetuned-sst-2-english and revision af0f99b (https://huggingface.co/distilbert-base-uncased-finetuned-sst-2-english).\n",
      "Using a pipeline without specifying a model name and revision in production is not recommended.\n"
     ]
    },
    {
     "data": {
      "application/vnd.jupyter.widget-view+json": {
       "model_id": "6dba55ebda1041b2afb43a99d9330c3e",
       "version_major": 2,
       "version_minor": 0
      },
      "text/plain": [
       "Downloading model.safetensors:   0%|          | 0.00/268M [00:00<?, ?B/s]"
      ]
     },
     "metadata": {},
     "output_type": "display_data"
    },
    {
     "name": "stdout",
     "output_type": "stream",
     "text": [
      "[{'label': 'NEGATIVE', 'score': 0.999460756778717}]\n"
     ]
    }
   ],
   "source": [
    "# By default the text-classification pipeline uses a model that is designed for sentiment-analysis\n",
    "# but it also support multi-class and multi-label classification tasks\n",
    "# You can override the default model to use another model instead using the model argument\n",
    "# Pipeline takes a string and returns a list of predictions\n",
    "classifier = pipeline('text-classification')\n",
    "\n",
    "text = \"\"\"I recently purchased the BlendMaster X500 from TechKitchen Co., \n",
    "lured by its promising features and the rave reviews on their official website. \n",
    "However, my experience has been far from satisfactory. \n",
    "The motor, despite being labeled as \"Ultra-Powerful 1000W\", struggles with basic tasks, \n",
    "even failing to blend soft fruits like bananas smoothly. \n",
    "The touted \"QuickClean Pro\" feature is misleading; \n",
    "I've spent longer cleaning this model than my old BlendEase 300. \n",
    "To add to the woes, the SuperSeal lid is a misnomer; it leaked during my second use, \n",
    "creating a mess on my countertop. \n",
    "I genuinely regret opting for the BlendMaster X500 and would urge potential buyers to consider other options.\n",
    "\"\"\"\n",
    "\n",
    "predictions = classifier(text)\n",
    "print(predictions)"
   ]
  },
  {
   "cell_type": "markdown",
   "id": "a3fdf3aa",
   "metadata": {},
   "source": [
    "#### Named-Entity Recognition (NER) Pipeline"
   ]
  },
  {
   "cell_type": "code",
   "execution_count": 3,
   "id": "879eb58f",
   "metadata": {},
   "outputs": [
    {
     "name": "stderr",
     "output_type": "stream",
     "text": [
      "No model was supplied, defaulted to dbmdz/bert-large-cased-finetuned-conll03-english and revision f2482bf (https://huggingface.co/dbmdz/bert-large-cased-finetuned-conll03-english).\n",
      "Using a pipeline without specifying a model name and revision in production is not recommended.\n"
     ]
    },
    {
     "data": {
      "application/vnd.jupyter.widget-view+json": {
       "model_id": "768059d193b642b696e0fda082da3760",
       "version_major": 2,
       "version_minor": 0
      },
      "text/plain": [
       "Downloading model.safetensors:   0%|          | 0.00/1.33G [00:00<?, ?B/s]"
      ]
     },
     "metadata": {},
     "output_type": "display_data"
    },
    {
     "name": "stderr",
     "output_type": "stream",
     "text": [
      "Some weights of the model checkpoint at dbmdz/bert-large-cased-finetuned-conll03-english were not used when initializing BertForTokenClassification: ['bert.pooler.dense.weight', 'bert.pooler.dense.bias']\n",
      "- This IS expected if you are initializing BertForTokenClassification from the checkpoint of a model trained on another task or with another architecture (e.g. initializing a BertForSequenceClassification model from a BertForPreTraining model).\n",
      "- This IS NOT expected if you are initializing BertForTokenClassification from the checkpoint of a model that you expect to be exactly identical (initializing a BertForSequenceClassification model from a BertForSequenceClassification model).\n"
     ]
    },
    {
     "data": {
      "text/html": [
       "<div>\n",
       "<style scoped>\n",
       "    .dataframe tbody tr th:only-of-type {\n",
       "        vertical-align: middle;\n",
       "    }\n",
       "\n",
       "    .dataframe tbody tr th {\n",
       "        vertical-align: top;\n",
       "    }\n",
       "\n",
       "    .dataframe thead th {\n",
       "        text-align: right;\n",
       "    }\n",
       "</style>\n",
       "<table border=\"1\" class=\"dataframe\">\n",
       "  <thead>\n",
       "    <tr style=\"text-align: right;\">\n",
       "      <th></th>\n",
       "      <th>entity_group</th>\n",
       "      <th>score</th>\n",
       "      <th>word</th>\n",
       "      <th>start</th>\n",
       "      <th>end</th>\n",
       "    </tr>\n",
       "  </thead>\n",
       "  <tbody>\n",
       "    <tr>\n",
       "      <th>0</th>\n",
       "      <td>MISC</td>\n",
       "      <td>0.980379</td>\n",
       "      <td>BlendMaster X500</td>\n",
       "      <td>25</td>\n",
       "      <td>41</td>\n",
       "    </tr>\n",
       "    <tr>\n",
       "      <th>1</th>\n",
       "      <td>ORG</td>\n",
       "      <td>0.985157</td>\n",
       "      <td>TechKitchen Co.</td>\n",
       "      <td>47</td>\n",
       "      <td>62</td>\n",
       "    </tr>\n",
       "    <tr>\n",
       "      <th>2</th>\n",
       "      <td>MISC</td>\n",
       "      <td>0.972579</td>\n",
       "      <td>QuickClean Pro</td>\n",
       "      <td>361</td>\n",
       "      <td>375</td>\n",
       "    </tr>\n",
       "    <tr>\n",
       "      <th>3</th>\n",
       "      <td>MISC</td>\n",
       "      <td>0.910016</td>\n",
       "      <td>BlendEase 300</td>\n",
       "      <td>451</td>\n",
       "      <td>464</td>\n",
       "    </tr>\n",
       "    <tr>\n",
       "      <th>4</th>\n",
       "      <td>MISC</td>\n",
       "      <td>0.855905</td>\n",
       "      <td>SuperS</td>\n",
       "      <td>491</td>\n",
       "      <td>497</td>\n",
       "    </tr>\n",
       "    <tr>\n",
       "      <th>5</th>\n",
       "      <td>MISC</td>\n",
       "      <td>0.982523</td>\n",
       "      <td>BlendMaster X500</td>\n",
       "      <td>622</td>\n",
       "      <td>638</td>\n",
       "    </tr>\n",
       "  </tbody>\n",
       "</table>\n",
       "</div>"
      ],
      "text/plain": [
       "  entity_group     score              word  start  end\n",
       "0         MISC  0.980379  BlendMaster X500     25   41\n",
       "1          ORG  0.985157   TechKitchen Co.     47   62\n",
       "2         MISC  0.972579    QuickClean Pro    361  375\n",
       "3         MISC  0.910016     BlendEase 300    451  464\n",
       "4         MISC  0.855905            SuperS    491  497\n",
       "5         MISC  0.982523  BlendMaster X500    622  638"
      ]
     },
     "execution_count": 3,
     "metadata": {},
     "output_type": "execute_result"
    }
   ],
   "source": [
    "import pandas as pd\n",
    "ner_tagger = pipeline('ner', aggregation_strategy='simple')\n",
    "ner_tags = ner_tagger(text)\n",
    "pd.DataFrame(ner_tags)"
   ]
  },
  {
   "cell_type": "markdown",
   "id": "c8edade0",
   "metadata": {},
   "source": [
    "#### Question Answering Pipeline"
   ]
  },
  {
   "cell_type": "code",
   "execution_count": 4,
   "id": "c51494cd",
   "metadata": {},
   "outputs": [
    {
     "name": "stderr",
     "output_type": "stream",
     "text": [
      "No model was supplied, defaulted to distilbert-base-cased-distilled-squad and revision 626af31 (https://huggingface.co/distilbert-base-cased-distilled-squad).\n",
      "Using a pipeline without specifying a model name and revision in production is not recommended.\n"
     ]
    },
    {
     "data": {
      "application/vnd.jupyter.widget-view+json": {
       "model_id": "432d1447a01747b1a856c601ea9b32c7",
       "version_major": 2,
       "version_minor": 0
      },
      "text/plain": [
       "Downloading model.safetensors:   0%|          | 0.00/261M [00:00<?, ?B/s]"
      ]
     },
     "metadata": {},
     "output_type": "display_data"
    },
    {
     "data": {
      "text/html": [
       "<div>\n",
       "<style scoped>\n",
       "    .dataframe tbody tr th:only-of-type {\n",
       "        vertical-align: middle;\n",
       "    }\n",
       "\n",
       "    .dataframe tbody tr th {\n",
       "        vertical-align: top;\n",
       "    }\n",
       "\n",
       "    .dataframe thead th {\n",
       "        text-align: right;\n",
       "    }\n",
       "</style>\n",
       "<table border=\"1\" class=\"dataframe\">\n",
       "  <thead>\n",
       "    <tr style=\"text-align: right;\">\n",
       "      <th></th>\n",
       "      <th>score</th>\n",
       "      <th>start</th>\n",
       "      <th>end</th>\n",
       "      <th>answer</th>\n",
       "    </tr>\n",
       "  </thead>\n",
       "  <tbody>\n",
       "    <tr>\n",
       "      <th>0</th>\n",
       "      <td>0.63558</td>\n",
       "      <td>47</td>\n",
       "      <td>62</td>\n",
       "      <td>TechKitchen Co.</td>\n",
       "    </tr>\n",
       "  </tbody>\n",
       "</table>\n",
       "</div>"
      ],
      "text/plain": [
       "     score  start  end           answer\n",
       "0  0.63558     47   62  TechKitchen Co."
      ]
     },
     "execution_count": 4,
     "metadata": {},
     "output_type": "execute_result"
    }
   ],
   "source": [
    "qna = pipeline('question-answering')\n",
    "question = \"what is the name of the company that makes the BlendMaster X500?\"\n",
    "answer = qna(question=question, context=text)\n",
    "pd.DataFrame([answer])"
   ]
  },
  {
   "cell_type": "markdown",
   "id": "a891dc32",
   "metadata": {},
   "source": [
    "#### Text Summarization Pipeline"
   ]
  },
  {
   "cell_type": "code",
   "execution_count": 5,
   "id": "8a14a647",
   "metadata": {},
   "outputs": [
    {
     "name": "stderr",
     "output_type": "stream",
     "text": [
      "No model was supplied, defaulted to sshleifer/distilbart-cnn-12-6 and revision a4f8f3e (https://huggingface.co/sshleifer/distilbart-cnn-12-6).\n",
      "Using a pipeline without specifying a model name and revision in production is not recommended.\n"
     ]
    },
    {
     "name": "stdout",
     "output_type": "stream",
     "text": [
      " The touted \"QuickClean Pro\" feature is misleading . The SuperSeal lid is a misnomer; it leaked during my second use, creating a mess on my countertop .\n"
     ]
    }
   ],
   "source": [
    "summarizer = pipeline('summarization')\n",
    "summary = summarizer(text, max_length=50, min_length=30)\n",
    "print(summary[0]['summary_text'])"
   ]
  },
  {
   "cell_type": "markdown",
   "id": "3869dcae",
   "metadata": {},
   "source": [
    "#### Translation Pipeline"
   ]
  },
  {
   "cell_type": "code",
   "execution_count": 6,
   "id": "af6f1b1a",
   "metadata": {},
   "outputs": [
    {
     "data": {
      "application/vnd.jupyter.widget-view+json": {
       "model_id": "cb932b05c1a348afa52ee7fc1064f62e",
       "version_major": 2,
       "version_minor": 0
      },
      "text/plain": [
       "Downloading (…)neration_config.json:   0%|          | 0.00/293 [00:00<?, ?B/s]"
      ]
     },
     "metadata": {},
     "output_type": "display_data"
    },
    {
     "name": "stdout",
     "output_type": "stream",
     "text": [
      "Vor kurzem kaufte ich den BlendMaster X500 von TechKitchen Co., gelockt durch seine vielversprechenden Funktionen und die Rave-Bewertungen auf ihrer offiziellen Website. Allerdings war meine Erfahrung bei weitem nicht zufriedenstellend. Der Motor, obwohl als \"Ultra-Powerful 1000W\" gekennzeichnet, kämpft mit grundlegenden Aufgaben, sogar nicht zu mischen weiche Früchte wie Bananen reibungslos. Die angepriesene \"QuickClean Pro\"-Funktion ist irreführend; Ich habe längere Reinigung dieses Modell als meine alte BlendEase 300 verbracht. Um den Wehen hinzuzufügen, ist der SuperSeal Deckel ein Fehlname; es leckte während meiner zweiten Verwendung, die Schaffung eines Chaos auf meiner Arbeitsplatte. Ich bedauere wirklich, die Wahl für den BlendMaster X500 und würde potenzielle Käufer zu erwägen, andere Optionen.\n"
     ]
    }
   ],
   "source": [
    "translator = pipeline('translation', model='Helsinki-NLP/opus-mt-en-de')\n",
    "translation = translator(text, clean_up_tokenization_spaces=True, min_length=50)\n",
    "print(translation[0]['translation_text'])"
   ]
  },
  {
   "cell_type": "markdown",
   "id": "79e1b566",
   "metadata": {},
   "source": [
    "#### Text Generation Pipeline"
   ]
  },
  {
   "cell_type": "code",
   "execution_count": 7,
   "id": "4ec95022",
   "metadata": {},
   "outputs": [
    {
     "name": "stderr",
     "output_type": "stream",
     "text": [
      "No model was supplied, defaulted to gpt2 and revision 6c0e608 (https://huggingface.co/gpt2).\n",
      "Using a pipeline without specifying a model name and revision in production is not recommended.\n"
     ]
    },
    {
     "data": {
      "application/vnd.jupyter.widget-view+json": {
       "model_id": "1c432441c2e84c20b295cd33133a9ab3",
       "version_major": 2,
       "version_minor": 0
      },
      "text/plain": [
       "Downloading model.safetensors:   0%|          | 0.00/548M [00:00<?, ?B/s]"
      ]
     },
     "metadata": {},
     "output_type": "display_data"
    },
    {
     "data": {
      "application/vnd.jupyter.widget-view+json": {
       "model_id": "9ba8f2b39d8740d1a74c75791a1e71c7",
       "version_major": 2,
       "version_minor": 0
      },
      "text/plain": [
       "Downloading (…)neration_config.json:   0%|          | 0.00/124 [00:00<?, ?B/s]"
      ]
     },
     "metadata": {},
     "output_type": "display_data"
    },
    {
     "name": "stderr",
     "output_type": "stream",
     "text": [
      "Setting `pad_token_id` to `eos_token_id`:50256 for open-end generation.\n"
     ]
    },
    {
     "name": "stdout",
     "output_type": "stream",
     "text": [
      "I recently purchased the BlendMaster X500 from TechKitchen Co., \n",
      "lured by its promising features and the rave reviews on their official website. \n",
      "However, my experience has been far from satisfactory. \n",
      "The motor, despite being labeled as \"Ultra-Powerful 1000W\", struggles with basic tasks, \n",
      "even failing to blend soft fruits like bananas smoothly. \n",
      "The touted \"QuickClean Pro\" feature is misleading; \n",
      "I've spent longer cleaning this model than my old BlendEase 300. \n",
      "To add to the woes, the SuperSeal lid is a misnomer; it leaked during my second use, \n",
      "creating a mess on my countertop. \n",
      "I genuinely regret opting for the BlendMaster X500 and would urge potential buyers to consider other options.\n",
      "\n",
      "\n",
      "Customer service response:Dear customer, I am sorry to hear about your experience with the BlendMaster X500. \n",
      "\n",
      "We are currently evaluating the product and feel that it has met our expectations. \n",
      "\n",
      "Given the strong feedback that we have received, this product has come to us as an attractive alternative to other \"Ultra-Powerful\"  \n",
      "devices. Thank you for your support. Our team had to be very responsive and quick so we can respond quickly and quickly without any delay. We appreciate\n",
      "\n",
      "your input. We also understand the concerns and the needs of the customers in our department. \n",
      "\n",
      "In addition, since we know the customers appreciate our offer and have expressed a desire for our products to be as simple as possible, our team is working really hard to make this product available in select stores, please allow us\n",
      "\n",
      "until further notice in accordance with the manufacturer's requirements. We will be more than happy to help you. Your support will be highly appreciated. In closing, Mr..\n",
      "\n",
      "The Product\n",
      "\n",
      "The BlendMaster X series V-Jet\n",
      "\n",
      "SuperSuite 300\n",
      "\n",
      "SuperSeal 200mm/50F/2.0A and TurboMax 10mm (10mm thicker)\n",
      "\n",
      "The TurboMax 10mm (15mm thinner)\n",
      "\n",
      "(15mm thinner) The TurboMax 10mm (50mm thinner) or SuperSeal 800mm/70F (30mm thinner)\n",
      "\n",
      "or (30mm thinner) The BlendMaster X600mm/400mm (30mm thinner)\n",
      "\n",
      "This will take two hours with all three of the above products, please\n"
     ]
    }
   ],
   "source": [
    "generator = pipeline('text-generation')\n",
    "response = \"Dear customer, I am sorry to hear about your experience with the BlendMaster X500.\"\n",
    "prompt = text + \"\\n\\nCustomer service response:\" + response\n",
    "generated_text = generator(prompt, max_length=500, num_return_sequences=3)\n",
    "print(generated_text[0]['generated_text'])"
   ]
  },
  {
   "cell_type": "markdown",
   "id": "db99c0c5-5aa1-4bf6-868b-6783b6161f8e",
   "metadata": {},
   "source": [
    "## Datasets"
   ]
  },
  {
   "cell_type": "code",
   "execution_count": 8,
   "id": "5ef408e7-a7a7-4f5a-95db-852c58fb0a92",
   "metadata": {},
   "outputs": [],
   "source": [
    "from huggingface_hub import list_datasets\n",
    "from datasets import load_dataset"
   ]
  },
  {
   "cell_type": "code",
   "execution_count": 9,
   "id": "0ecca487-cd83-49b8-94e1-9356ddacd524",
   "metadata": {},
   "outputs": [],
   "source": [
    "all_datasets = list_datasets()"
   ]
  },
  {
   "cell_type": "code",
   "execution_count": 10,
   "id": "fdab51f7",
   "metadata": {},
   "outputs": [
    {
     "data": {
      "text/plain": [
       "DatasetInfo: { \n",
       "  {'_id': '621ffdd236468d709f181d58',\n",
       "   'author': None,\n",
       "   'cardData': None,\n",
       "   'citation': '@inproceedings{veyseh-et-al-2020-what,\\n'\n",
       "               '   title={{What Does This Acronym Mean? Introducing a New Dataset for Acronym Identification and '\n",
       "               'Disambiguation}},\\n'\n",
       "               '   author={Amir Pouran Ben Veyseh and Franck Dernoncourt and Quan Hung Tran and Thien Huu Nguyen},\\n'\n",
       "               '   year={2020},\\n'\n",
       "               '   booktitle={Proceedings of COLING},\\n'\n",
       "               '   link={https://arxiv.org/pdf/2010.14678v1.pdf}\\n'\n",
       "               '}',\n",
       "   'description': 'Acronym identification training and development sets for the acronym identification task at '\n",
       "                  'SDU@AAAI-21.',\n",
       "   'disabled': False,\n",
       "   'downloads': 5236,\n",
       "   'gated': False,\n",
       "   'id': 'acronym_identification',\n",
       "   'lastModified': '2023-01-25T14:18:28.000Z',\n",
       "   'likes': 17,\n",
       "   'paperswithcode_id': 'acronym-identification',\n",
       "   'private': False,\n",
       "   'sha': 'c3c245a18bbd57b1682b099e14460eebf154cbdf',\n",
       "   'siblings': [],\n",
       "   'tags': ['task_categories:token-classification', 'annotations_creators:expert-generated', 'language_creators:found',\n",
       "            'multilinguality:monolingual', 'size_categories:10K<n<100K', 'source_datasets:original', 'language:en',\n",
       "            'license:mit', 'acronym-identification', 'arxiv:2010.14678', 'region:us']}\n",
       "}"
      ]
     },
     "execution_count": 10,
     "metadata": {},
     "output_type": "execute_result"
    }
   ],
   "source": [
    "next(all_datasets)"
   ]
  },
  {
   "cell_type": "markdown",
   "id": "f3cced53-1d72-45e0-9442-fa5a7bd28543",
   "metadata": {},
   "source": [
    "### Load dataset (e.g., emotions)\n",
    "\n",
    "The dataset in Huggingface follows apache arrow format. The dataset can be loaded from the Huggingface Datasets library.\n",
    "\n",
    "Apache arrow format is a columnar format that is optimized for fast loading and efficient memory usage. It is language agnostic unlike pandas. It is a common format for data science and machine learning tasks.\n",
    "\n",
    "The dataset usually has the following structure:\n",
    "\n",
    "- `train` (Dataset)\n",
    "    - `text` (str)\n",
    "    - `label` (int)\n",
    "- `validation` (Dataset)\n",
    "    - `text` (str)\n",
    "    - `label` (int)\n",
    "- `test` (Dataset)\n",
    "    - `text` (str)\n",
    "    - `label` (int)\n",
    "\n",
    "The datasets in HF are downloaded and cached locally in `~/.cache/huggingface/datasets/`. The dataset can be loaded from the cache using the `load_dataset()` function."
   ]
  },
  {
   "cell_type": "code",
   "execution_count": 11,
   "id": "455ffa14-dbd6-46a9-8e34-0f8e7a5dac19",
   "metadata": {},
   "outputs": [],
   "source": [
    "emotion_dataset = load_dataset('emotion')"
   ]
  },
  {
   "cell_type": "code",
   "execution_count": 12,
   "id": "43955f04-6d3b-4401-9acd-519ee68901b9",
   "metadata": {},
   "outputs": [
    {
     "data": {
      "text/plain": [
       "DatasetDict({\n",
       "    train: Dataset({\n",
       "        features: ['text', 'label'],\n",
       "        num_rows: 16000\n",
       "    })\n",
       "    validation: Dataset({\n",
       "        features: ['text', 'label'],\n",
       "        num_rows: 2000\n",
       "    })\n",
       "    test: Dataset({\n",
       "        features: ['text', 'label'],\n",
       "        num_rows: 2000\n",
       "    })\n",
       "})"
      ]
     },
     "execution_count": 12,
     "metadata": {},
     "output_type": "execute_result"
    }
   ],
   "source": [
    "emotion_dataset # Apache-arrow format"
   ]
  },
  {
   "cell_type": "code",
   "execution_count": 13,
   "id": "e0a1a1c7-21f0-4a70-8495-f9965e133e9c",
   "metadata": {},
   "outputs": [
    {
     "data": {
      "text/plain": [
       "Dataset({\n",
       "    features: ['text', 'label'],\n",
       "    num_rows: 16000\n",
       "})"
      ]
     },
     "execution_count": 13,
     "metadata": {},
     "output_type": "execute_result"
    }
   ],
   "source": [
    "train_set = emotion_dataset['train']\n",
    "train_set"
   ]
  },
  {
   "cell_type": "code",
   "execution_count": 14,
   "id": "fd8aef1c-51d3-42b3-b858-22d7d92fc9ad",
   "metadata": {},
   "outputs": [
    {
     "data": {
      "text/plain": [
       "16000"
      ]
     },
     "execution_count": 14,
     "metadata": {},
     "output_type": "execute_result"
    }
   ],
   "source": [
    "len(train_set)"
   ]
  },
  {
   "cell_type": "code",
   "execution_count": 15,
   "id": "60516425-4cf0-43a4-aa7a-59e8af393c9f",
   "metadata": {},
   "outputs": [
    {
     "data": {
      "text/plain": [
       "{'text': 'i didnt feel humiliated', 'label': 0}"
      ]
     },
     "execution_count": 15,
     "metadata": {},
     "output_type": "execute_result"
    }
   ],
   "source": [
    "train_set[0]"
   ]
  },
  {
   "cell_type": "code",
   "execution_count": 16,
   "id": "dc11a0d0-5be0-4941-9773-84daa9a5091c",
   "metadata": {},
   "outputs": [
    {
     "data": {
      "text/plain": [
       "['text', 'label']"
      ]
     },
     "execution_count": 16,
     "metadata": {},
     "output_type": "execute_result"
    }
   ],
   "source": [
    "train_set.column_names"
   ]
  },
  {
   "cell_type": "code",
   "execution_count": 17,
   "id": "cd1a7c76-afbb-4f3e-b70e-bb273c3437bb",
   "metadata": {},
   "outputs": [
    {
     "data": {
      "text/plain": [
       "{'text': Value(dtype='string', id=None),\n",
       " 'label': ClassLabel(names=['sadness', 'joy', 'love', 'anger', 'fear', 'surprise'], id=None)}"
      ]
     },
     "execution_count": 17,
     "metadata": {},
     "output_type": "execute_result"
    }
   ],
   "source": [
    "train_set.features"
   ]
  },
  {
   "cell_type": "code",
   "execution_count": 18,
   "id": "c6069b63-f16f-4887-9163-97b6052f673b",
   "metadata": {},
   "outputs": [
    {
     "data": {
      "text/plain": [
       "{'text': ['i didnt feel humiliated',\n",
       "  'i can go from feeling so hopeless to so damned hopeful just from being around someone who cares and is awake',\n",
       "  'im grabbing a minute to post i feel greedy wrong',\n",
       "  'i am ever feeling nostalgic about the fireplace i will know that it is still on the property',\n",
       "  'i am feeling grouchy'],\n",
       " 'label': [0, 0, 3, 2, 3]}"
      ]
     },
     "execution_count": 18,
     "metadata": {},
     "output_type": "execute_result"
    }
   ],
   "source": [
    "train_set[:5]"
   ]
  },
  {
   "cell_type": "code",
   "execution_count": 19,
   "id": "dfea8ed2-572a-4916-9c42-4a23b2972302",
   "metadata": {},
   "outputs": [
    {
     "data": {
      "text/plain": [
       "['i didnt feel humiliated',\n",
       " 'i can go from feeling so hopeless to so damned hopeful just from being around someone who cares and is awake',\n",
       " 'im grabbing a minute to post i feel greedy wrong',\n",
       " 'i am ever feeling nostalgic about the fireplace i will know that it is still on the property',\n",
       " 'i am feeling grouchy']"
      ]
     },
     "execution_count": 19,
     "metadata": {},
     "output_type": "execute_result"
    }
   ],
   "source": [
    "train_set['text'][:5]"
   ]
  },
  {
   "cell_type": "markdown",
   "id": "f8fc10a9-4031-4637-a8a1-a293b8ea709c",
   "metadata": {},
   "source": [
    "### From Datasets to Dataframes\n",
    "\n",
    "The dataset can be converted to a pandas dataframe by setting the format to `pandas` using set_format() function."
   ]
  },
  {
   "cell_type": "code",
   "execution_count": 20,
   "id": "7ab9b64c-9941-467f-88ba-13c62f6c7740",
   "metadata": {},
   "outputs": [
    {
     "data": {
      "text/html": [
       "<div>\n",
       "<style scoped>\n",
       "    .dataframe tbody tr th:only-of-type {\n",
       "        vertical-align: middle;\n",
       "    }\n",
       "\n",
       "    .dataframe tbody tr th {\n",
       "        vertical-align: top;\n",
       "    }\n",
       "\n",
       "    .dataframe thead th {\n",
       "        text-align: right;\n",
       "    }\n",
       "</style>\n",
       "<table border=\"1\" class=\"dataframe\">\n",
       "  <thead>\n",
       "    <tr style=\"text-align: right;\">\n",
       "      <th></th>\n",
       "      <th>text</th>\n",
       "      <th>label</th>\n",
       "    </tr>\n",
       "  </thead>\n",
       "  <tbody>\n",
       "    <tr>\n",
       "      <th>0</th>\n",
       "      <td>i didnt feel humiliated</td>\n",
       "      <td>0</td>\n",
       "    </tr>\n",
       "    <tr>\n",
       "      <th>1</th>\n",
       "      <td>i can go from feeling so hopeless to so damned...</td>\n",
       "      <td>0</td>\n",
       "    </tr>\n",
       "    <tr>\n",
       "      <th>2</th>\n",
       "      <td>im grabbing a minute to post i feel greedy wrong</td>\n",
       "      <td>3</td>\n",
       "    </tr>\n",
       "    <tr>\n",
       "      <th>3</th>\n",
       "      <td>i am ever feeling nostalgic about the fireplac...</td>\n",
       "      <td>2</td>\n",
       "    </tr>\n",
       "    <tr>\n",
       "      <th>4</th>\n",
       "      <td>i am feeling grouchy</td>\n",
       "      <td>3</td>\n",
       "    </tr>\n",
       "  </tbody>\n",
       "</table>\n",
       "</div>"
      ],
      "text/plain": [
       "                                                text  label\n",
       "0                            i didnt feel humiliated      0\n",
       "1  i can go from feeling so hopeless to so damned...      0\n",
       "2   im grabbing a minute to post i feel greedy wrong      3\n",
       "3  i am ever feeling nostalgic about the fireplac...      2\n",
       "4                               i am feeling grouchy      3"
      ]
     },
     "execution_count": 20,
     "metadata": {},
     "output_type": "execute_result"
    }
   ],
   "source": [
    "import pandas as pd\n",
    "emotion_dataset.set_format(type='pandas')\n",
    "df = emotion_dataset['train'][:]\n",
    "df.head()"
   ]
  },
  {
   "cell_type": "code",
   "execution_count": 21,
   "id": "629a2977-531c-4423-917c-56ee1a4e2bac",
   "metadata": {},
   "outputs": [
    {
     "data": {
      "text/html": [
       "<div>\n",
       "<style scoped>\n",
       "    .dataframe tbody tr th:only-of-type {\n",
       "        vertical-align: middle;\n",
       "    }\n",
       "\n",
       "    .dataframe tbody tr th {\n",
       "        vertical-align: top;\n",
       "    }\n",
       "\n",
       "    .dataframe thead th {\n",
       "        text-align: right;\n",
       "    }\n",
       "</style>\n",
       "<table border=\"1\" class=\"dataframe\">\n",
       "  <thead>\n",
       "    <tr style=\"text-align: right;\">\n",
       "      <th></th>\n",
       "      <th>text</th>\n",
       "      <th>label</th>\n",
       "      <th>label_name</th>\n",
       "    </tr>\n",
       "  </thead>\n",
       "  <tbody>\n",
       "    <tr>\n",
       "      <th>0</th>\n",
       "      <td>i didnt feel humiliated</td>\n",
       "      <td>0</td>\n",
       "      <td>sadness</td>\n",
       "    </tr>\n",
       "    <tr>\n",
       "      <th>1</th>\n",
       "      <td>i can go from feeling so hopeless to so damned...</td>\n",
       "      <td>0</td>\n",
       "      <td>sadness</td>\n",
       "    </tr>\n",
       "    <tr>\n",
       "      <th>2</th>\n",
       "      <td>im grabbing a minute to post i feel greedy wrong</td>\n",
       "      <td>3</td>\n",
       "      <td>anger</td>\n",
       "    </tr>\n",
       "    <tr>\n",
       "      <th>3</th>\n",
       "      <td>i am ever feeling nostalgic about the fireplac...</td>\n",
       "      <td>2</td>\n",
       "      <td>love</td>\n",
       "    </tr>\n",
       "    <tr>\n",
       "      <th>4</th>\n",
       "      <td>i am feeling grouchy</td>\n",
       "      <td>3</td>\n",
       "      <td>anger</td>\n",
       "    </tr>\n",
       "  </tbody>\n",
       "</table>\n",
       "</div>"
      ],
      "text/plain": [
       "                                                text  label label_name\n",
       "0                            i didnt feel humiliated      0    sadness\n",
       "1  i can go from feeling so hopeless to so damned...      0    sadness\n",
       "2   im grabbing a minute to post i feel greedy wrong      3      anger\n",
       "3  i am ever feeling nostalgic about the fireplac...      2       love\n",
       "4                               i am feeling grouchy      3      anger"
      ]
     },
     "execution_count": 21,
     "metadata": {},
     "output_type": "execute_result"
    }
   ],
   "source": [
    "def label_int2str(row):\n",
    "    return emotion_dataset['train'].features['label'].int2str(row)\n",
    "\n",
    "df['label_name'] = df['label'].apply(label_int2str)\n",
    "df.head()"
   ]
  },
  {
   "cell_type": "markdown",
   "id": "9c382afc-ef13-4145-92a6-d732129cf544",
   "metadata": {},
   "source": [
    "### Exploratory Data Analysis\n",
    "\n",
    "Once the dataset is available as a dataframe, we can perform exploratory data analysis (EDA) on the dataset."
   ]
  },
  {
   "cell_type": "code",
   "execution_count": 24,
   "id": "819573df-61ad-4bb0-a7dd-c9fb5554cb87",
   "metadata": {},
   "outputs": [
    {
     "data": {
      "image/png": "[encoded data removed]",
      "text/plain": [
       "<Figure size 640x480 with 1 Axes>"
      ]
     },
     "metadata": {},
     "output_type": "display_data"
    }
   ],
   "source": [
    "import matplotlib.pyplot as plt\n",
    "df['label_name'].value_counts(ascending=True).plot.barh()\n",
    "plt.title('Frequency of Classes')\n",
    "plt.show()"
   ]
  },
  {
   "cell_type": "code",
   "execution_count": 25,
   "id": "1417c804-5cec-44a3-91ea-b3457e62827d",
   "metadata": {},
   "outputs": [
    {
     "data": {
      "image/png": "[encoded data removed]",
      "text/plain": [
       "<Figure size 640x480 with 1 Axes>"
      ]
     },
     "metadata": {},
     "output_type": "display_data"
    }
   ],
   "source": [
    "df['words_per_tweet'] = df['text'].str.split().apply(len)\n",
    "df.boxplot('words_per_tweet', by='label_name', grid=False, showfliers=False, color='black')\n",
    "plt.suptitle('')\n",
    "plt.xlabel('')\n",
    "plt.show()"
   ]
  },
  {
   "cell_type": "markdown",
   "id": "0b427454-0a55-4ee4-8fca-a8e85fdf88e4",
   "metadata": {},
   "source": [
    "## Tokenizers: From Text to Tokens\n",
    "\n",
    "One of the most important steps in NLP is to convert text to tokens. This is done using tokenizers. Huggingface provides a tokenizer library that can be used to tokenize text."
   ]
  },
  {
   "cell_type": "markdown",
   "id": "5ce2699b-0d97-4b3f-9b99-e1fe68d48e62",
   "metadata": {},
   "source": [
    "### Character Tokenization"
   ]
  },
  {
   "cell_type": "code",
   "execution_count": 26,
   "id": "ea5fc7bb-8bb1-41af-a0ad-49fbbc2a5ed8",
   "metadata": {},
   "outputs": [
    {
     "name": "stdout",
     "output_type": "stream",
     "text": [
      "['T', 'o', 'k', 'e', 'n', 'i', 'z', 'a', 't', 'i', 'o', 'n', ' ', 't', 'e', 'x', 't', ' ', 'i', 's', ' ', 'a', ' ', 'c', 'o', 'r', 'e', ' ', 't', 'a', 's', 'k', ' ', 'o', 'f', ' ', 'N', 'L', 'P', '.']\n"
     ]
    }
   ],
   "source": [
    "text = 'Tokenization text is a core task of NLP.'\n",
    "tokenized_text = list(text)\n",
    "print(tokenized_text)"
   ]
  },
  {
   "cell_type": "code",
   "execution_count": 27,
   "id": "45f943fe-32cf-40a2-be68-420ff8de0d64",
   "metadata": {},
   "outputs": [
    {
     "name": "stdout",
     "output_type": "stream",
     "text": [
      "{' ': 0, '.': 1, 'L': 2, 'N': 3, 'P': 4, 'T': 5, 'a': 6, 'c': 7, 'e': 8, 'f': 9, 'i': 10, 'k': 11, 'n': 12, 'o': 13, 'r': 14, 's': 15, 't': 16, 'x': 17, 'z': 18}\n"
     ]
    }
   ],
   "source": [
    "token2idx = {ch: idx for idx, ch in enumerate(sorted(set(tokenized_text)))}\n",
    "print(token2idx)"
   ]
  },
  {
   "cell_type": "code",
   "execution_count": 28,
   "id": "46ec9dde-3885-4f54-a979-b9f7592155e1",
   "metadata": {},
   "outputs": [
    {
     "name": "stdout",
     "output_type": "stream",
     "text": [
      "[5, 13, 11, 8, 12, 10, 18, 6, 16, 10, 13, 12, 0, 16, 8, 17, 16, 0, 10, 15, 0, 6, 0, 7, 13, 14, 8, 0, 16, 6, 15, 11, 0, 13, 9, 0, 3, 2, 4, 1]\n"
     ]
    }
   ],
   "source": [
    "input_ids = [token2idx[token] for token in tokenized_text]\n",
    "print(input_ids)"
   ]
  },
  {
   "cell_type": "code",
   "execution_count": 29,
   "id": "1c48832d-c4a3-4028-ba2e-c528f5bbd72f",
   "metadata": {},
   "outputs": [
    {
     "name": "stdout",
     "output_type": "stream",
     "text": [
      "Token: T\n",
      "Tensor index: 5\n",
      "One-hot: tensor([0, 0, 0, 0, 0, 1, 0, 0, 0, 0, 0, 0, 0, 0, 0, 0, 0, 0, 0])\n"
     ]
    }
   ],
   "source": [
    "import torch\n",
    "import torch.nn.functional as F\n",
    "\n",
    "input_ids = torch.tensor(input_ids)\n",
    "one_hot_encodings = F.one_hot(input_ids, num_classes=len(token2idx))\n",
    "one_hot_encodings.shape\n",
    "\n",
    "\n",
    "print(f\"Token: {tokenized_text[0]}\")\n",
    "print(f\"Tensor index: {input_ids[0]}\")\n",
    "print(f\"One-hot: {one_hot_encodings[0]}\")"
   ]
  },
  {
   "cell_type": "markdown",
   "id": "7d2ee61b-9008-4952-81ef-30461e5c0331",
   "metadata": {},
   "source": [
    "### Problems with Character Tokenization:\n",
    "- Ignores the structure of the text and treat the text as a stream of characters\n",
    "- Though it helps to deal with misspellings and rare words and vocabulary size is also small but the main drawback is that linguistic strcutures like words has to be learned which requires significant compute, memory and data.\n",
    "- Because of these challenges character tokenization is rearely used in practice"
   ]
  },
  {
   "cell_type": "markdown",
   "id": "783e7d4b-b878-44b8-8aa6-c371369530c5",
   "metadata": {},
   "source": [
    "## Word Tokenization"
   ]
  },
  {
   "cell_type": "code",
   "execution_count": 30,
   "id": "192c34ce-6a2c-41a1-a6de-9c2270302671",
   "metadata": {},
   "outputs": [
    {
     "name": "stdout",
     "output_type": "stream",
     "text": [
      "['Tokenization', 'text', 'is', 'a', 'core', 'task', 'of', 'NLP.']\n"
     ]
    }
   ],
   "source": [
    "tokenized_text = text.split()\n",
    "print(tokenized_text)"
   ]
  },
  {
   "cell_type": "markdown",
   "id": "a72305e2-d6c1-437f-9981-7ac1c2dd45df",
   "metadata": {},
   "source": [
    "### Problems with Word Tokenization:\n",
    "- Does not account for punctuation e.g. NLP. is treated as one token\n",
    "- Leads to a very large vocabulary size which results in having enormous amount of paramters for the neural network\n",
    "  - If we have 1 million words which we want to map to 1000-dimensional vector (encoding) in first layer of NN\n",
    "  - This will result in 1M x 1k = 1B weights (GPT-2 had 1.5B parameters in total)\n",
    "- We could alternatively also reduce vocabulary to say 100k by replacing rare words with <UNK> token but we will loose a lot of information\n",
    "- Its usually better to pick best of the both character and word tokenization "
   ]
  },
  {
   "cell_type": "markdown",
   "id": "bb942608-1b7c-4d94-ba8a-455569c90755",
   "metadata": {},
   "source": [
    "## Subword Tokenization"
   ]
  },
  {
   "cell_type": "markdown",
   "id": "2b094b31-9846-4194-9842-92275b78ede0",
   "metadata": {},
   "source": [
    "We want to combine the best aspects of both character and word tokenization. On one-hand we want to split rare words into smaller units to allow model to deal with complext words and misspellings. On the other hand, we want to keep frquent words as unique entities so that we can keep the length of our inputs to a manageable size."
   ]
  },
  {
   "cell_type": "code",
   "execution_count": 31,
   "id": "cf21ed63-893b-4cd1-8b02-5e6eff9bf69f",
   "metadata": {},
   "outputs": [],
   "source": [
    "from transformers import AutoTokenizer, DistilBertTokenizerFast"
   ]
  },
  {
   "cell_type": "code",
   "execution_count": 32,
   "id": "9fc6ebad-fabf-4b24-83bf-9410be490b9b",
   "metadata": {},
   "outputs": [],
   "source": [
    "model_checkpoint = 'distilbert-base-uncased'\n",
    "tokenizer = AutoTokenizer.from_pretrained(model_checkpoint)"
   ]
  },
  {
   "cell_type": "code",
   "execution_count": 33,
   "id": "b0b95ac0-837e-4361-b88c-759ce3e3172e",
   "metadata": {},
   "outputs": [],
   "source": [
    "distilbert_tokenizer = DistilBertTokenizerFast.from_pretrained(model_checkpoint)"
   ]
  },
  {
   "cell_type": "code",
   "execution_count": 34,
   "id": "73e3b852",
   "metadata": {},
   "outputs": [
    {
     "name": "stdout",
     "output_type": "stream",
     "text": [
      "{'input_ids': [101, 19204, 3989, 3793, 2003, 1037, 4563, 4708, 1997, 17953, 2361, 1012, 102], 'attention_mask': [1, 1, 1, 1, 1, 1, 1, 1, 1, 1, 1, 1, 1]}\n",
      "['token', '##ization', 'text', 'is', 'a', 'core', 'task', 'of', 'nl', '##p', '.']\n"
     ]
    }
   ],
   "source": [
    "encoded_text = tokenizer(text)\n",
    "tokenized_text = tokenizer.tokenize(text)\n",
    "print(encoded_text)\n",
    "print(tokenized_text)"
   ]
  },
  {
   "cell_type": "code",
   "execution_count": 35,
   "id": "674401d7",
   "metadata": {},
   "outputs": [
    {
     "name": "stdout",
     "output_type": "stream",
     "text": [
      "['[CLS]', 'token', '##ization', 'text', 'is', 'a', 'core', 'task', 'of', 'nl', '##p', '.', '[SEP]']\n"
     ]
    }
   ],
   "source": [
    "tokens = tokenizer.convert_ids_to_tokens(encoded_text['input_ids'])\n",
    "print(tokens)"
   ]
  },
  {
   "cell_type": "code",
   "execution_count": 36,
   "id": "a1cc95c7",
   "metadata": {},
   "outputs": [
    {
     "name": "stdout",
     "output_type": "stream",
     "text": [
      "[CLS] tokenization text is a core task of nlp. [SEP]\n"
     ]
    }
   ],
   "source": [
    "print(tokenizer.convert_tokens_to_string(tokens))"
   ]
  },
  {
   "cell_type": "code",
   "execution_count": 37,
   "id": "af8626a1",
   "metadata": {},
   "outputs": [
    {
     "data": {
      "text/plain": [
       "30522"
      ]
     },
     "execution_count": 37,
     "metadata": {},
     "output_type": "execute_result"
    }
   ],
   "source": [
    "tokenizer.vocab_size"
   ]
  },
  {
   "cell_type": "code",
   "execution_count": 38,
   "id": "d22729be",
   "metadata": {},
   "outputs": [
    {
     "data": {
      "text/plain": [
       "512"
      ]
     },
     "execution_count": 38,
     "metadata": {},
     "output_type": "execute_result"
    }
   ],
   "source": [
    "tokenizer.model_max_length"
   ]
  },
  {
   "cell_type": "code",
   "execution_count": 39,
   "id": "d220742f",
   "metadata": {},
   "outputs": [
    {
     "data": {
      "text/plain": [
       "['input_ids', 'attention_mask']"
      ]
     },
     "execution_count": 39,
     "metadata": {},
     "output_type": "execute_result"
    }
   ],
   "source": [
    "tokenizer.model_input_names"
   ]
  },
  {
   "cell_type": "markdown",
   "id": "8aea7006",
   "metadata": {},
   "source": [
    "#### Tokenizer the whole dataset"
   ]
  },
  {
   "cell_type": "code",
   "execution_count": 40,
   "id": "8e6424de",
   "metadata": {},
   "outputs": [
    {
     "name": "stdout",
     "output_type": "stream",
     "text": [
      "                                                text  label\n",
      "0                            i didnt feel humiliated      0\n",
      "1  i can go from feeling so hopeless to so damned...      0\n"
     ]
    }
   ],
   "source": [
    "def tokenize(batch):\n",
    "    return tokenizer(batch['text'], padding=True, truncation=True)\n",
    "\n",
    "print(emotion_dataset['train'][0:2])"
   ]
  },
  {
   "cell_type": "markdown",
   "id": "922f9cc0",
   "metadata": {},
   "source": [
    "## Models"
   ]
  },
  {
   "cell_type": "code",
   "execution_count": 41,
   "id": "48d615e1",
   "metadata": {},
   "outputs": [],
   "source": [
    "from huggingface_hub import list_models"
   ]
  },
  {
   "cell_type": "code",
   "execution_count": 42,
   "id": "444c9577",
   "metadata": {},
   "outputs": [
    {
     "data": {
      "text/plain": [
       "ModelInfo: { \n",
       "  {'_id': '621ffdc036468d709f174328',\n",
       "   'author': None,\n",
       "   'config': None,\n",
       "   'downloads': 56731,\n",
       "   'id': 'albert-base-v1',\n",
       "   'lastModified': None,\n",
       "   'likes': 3,\n",
       "   'modelId': 'albert-base-v1',\n",
       "   'pipeline_tag': 'fill-mask',\n",
       "   'private': False,\n",
       "   'securityStatus': None,\n",
       "   'sha': None,\n",
       "   'siblings': [],\n",
       "   'tags': ['transformers', 'pytorch', 'tf', 'safetensors', 'albert', 'fill-mask', 'en', 'dataset:bookcorpus',\n",
       "            'dataset:wikipedia', 'arxiv:1909.11942', 'exbert', 'license:apache-2.0', 'autotrain_compatible', 'has_space',\n",
       "            'region:us']}\n",
       "}"
      ]
     },
     "execution_count": 42,
     "metadata": {},
     "output_type": "execute_result"
    }
   ],
   "source": [
    "all_models = list_models()\n",
    "next(all_models)"
   ]
  },
  {
   "cell_type": "markdown",
   "id": "245335e8",
   "metadata": {},
   "source": [
    "### Download and Load a model\n",
    "\n",
    "- Models e.g.,\n",
    "    - GPT2\n",
    "    - BERT\n",
    "    - T5\n",
    "- AutoModel vs AutoModelForSequenceClassification"
   ]
  },
  {
   "cell_type": "code",
   "execution_count": 45,
   "id": "b0845282",
   "metadata": {},
   "outputs": [],
   "source": [
    "from transformers import AutoModel\n",
    "\n",
    "model_checkpoint = 'gpt2'\n",
    "device = 'cuda' if torch.cuda.is_available() else 'mps' if torch.backends.mps.is_available() else 'cpu'\n",
    "model = AutoModel.from_pretrained(model_checkpoint).to(device)"
   ]
  },
  {
   "cell_type": "code",
   "execution_count": 61,
   "id": "69f5c5b2",
   "metadata": {},
   "outputs": [],
   "source": [
    "from transformers import GPT2Tokenizer, GPT2LMHeadModel\n",
    "\n",
    "model_checkpoint = 'gpt2-medium'\n",
    "tokenizer = GPT2Tokenizer.from_pretrained(model_checkpoint)\n",
    "model = GPT2LMHeadModel.from_pretrained(model_checkpoint)"
   ]
  },
  {
   "cell_type": "code",
   "execution_count": 71,
   "id": "d7c6ccc8",
   "metadata": {},
   "outputs": [
    {
     "data": {
      "text/plain": [
       "GPT2Config {\n",
       "  \"_name_or_path\": \"gpt2-medium\",\n",
       "  \"activation_function\": \"gelu_new\",\n",
       "  \"architectures\": [\n",
       "    \"GPT2LMHeadModel\"\n",
       "  ],\n",
       "  \"attn_pdrop\": 0.1,\n",
       "  \"bos_token_id\": 50256,\n",
       "  \"embd_pdrop\": 0.1,\n",
       "  \"eos_token_id\": 50256,\n",
       "  \"initializer_range\": 0.02,\n",
       "  \"layer_norm_epsilon\": 1e-05,\n",
       "  \"model_type\": \"gpt2\",\n",
       "  \"n_ctx\": 1024,\n",
       "  \"n_embd\": 1024,\n",
       "  \"n_head\": 16,\n",
       "  \"n_inner\": null,\n",
       "  \"n_layer\": 24,\n",
       "  \"n_positions\": 1024,\n",
       "  \"n_special\": 0,\n",
       "  \"predict_special_tokens\": true,\n",
       "  \"reorder_and_upcast_attn\": false,\n",
       "  \"resid_pdrop\": 0.1,\n",
       "  \"scale_attn_by_inverse_layer_idx\": false,\n",
       "  \"scale_attn_weights\": true,\n",
       "  \"summary_activation\": null,\n",
       "  \"summary_first_dropout\": 0.1,\n",
       "  \"summary_proj_to_labels\": true,\n",
       "  \"summary_type\": \"cls_index\",\n",
       "  \"summary_use_proj\": true,\n",
       "  \"task_specific_params\": {\n",
       "    \"text-generation\": {\n",
       "      \"do_sample\": true,\n",
       "      \"max_length\": 50\n",
       "    }\n",
       "  },\n",
       "  \"transformers_version\": \"4.33.1\",\n",
       "  \"use_cache\": true,\n",
       "  \"vocab_size\": 50257\n",
       "}"
      ]
     },
     "execution_count": 71,
     "metadata": {},
     "output_type": "execute_result"
    }
   ],
   "source": [
    "model.config"
   ]
  },
  {
   "cell_type": "markdown",
   "id": "1e2394a8",
   "metadata": {},
   "source": [
    "### Inferencing"
   ]
  },
  {
   "cell_type": "markdown",
   "id": "69f6674c",
   "metadata": {},
   "source": [
    "#### Prepare the input"
   ]
  },
  {
   "cell_type": "code",
   "execution_count": 99,
   "id": "f88752cd",
   "metadata": {},
   "outputs": [],
   "source": [
    "# Tokenize input with attention mask\n",
    "input_text = \"once upon a time\"\n",
    "inputs = tokenizer(input_text, return_tensors=\"pt\", truncation=True)"
   ]
  },
  {
   "cell_type": "markdown",
   "id": "7e68917a",
   "metadata": {},
   "source": [
    "#### Perform inference"
   ]
  },
  {
   "cell_type": "code",
   "execution_count": 100,
   "id": "b595e14a",
   "metadata": {},
   "outputs": [
    {
     "name": "stdout",
     "output_type": "stream",
     "text": [
      "torch.Size([1, 4, 50257])\n",
      "tensor([[[ -68.1566,  -65.3417,  -71.5620,  ...,  -77.9625,  -74.2637,\n",
      "           -69.8652],\n",
      "         [-222.5967, -222.2235, -228.0917,  ..., -237.4984, -236.3385,\n",
      "          -223.4636],\n",
      "         [-151.4483, -149.3703, -156.5388,  ..., -162.4841, -159.7472,\n",
      "          -149.2175],\n",
      "         [ -59.1032,  -54.8393,  -62.8404,  ...,  -68.8518,  -66.1366,\n",
      "           -60.9544]]])\n"
     ]
    }
   ],
   "source": [
    "with torch.no_grad():\n",
    "    outputs = model(**inputs)\n",
    "    logits = outputs.logits # raw logits from the last layer\n",
    "\n",
    "print(logits.shape)\n",
    "print(logits)"
   ]
  },
  {
   "cell_type": "markdown",
   "id": "aea4f452",
   "metadata": {},
   "source": [
    "#### Result Interpretation\n",
    "The shape of logits/probabilities is as follows:\n",
    "- (batch_size, sequence_length, vocab_size). \n",
    "- In our case (1, 4, 50257):\n",
    "    - batch_size = 1 meaning one input sequence\n",
    "    - sequence_length = 4 meaning four tokens in the input sequence\n",
    "    - vocab_size = 50257 meaning 50257 tokens in the vocabulary of the GPT2 model\n",
    "- For each token in the input sequence, the model outputs a probability distribution over the vocabulary."
   ]
  },
  {
   "cell_type": "code",
   "execution_count": 101,
   "id": "f90e8c17",
   "metadata": {},
   "outputs": [
    {
     "name": "stdout",
     "output_type": "stream",
     "text": [
      "torch.Size([1, 4, 50257])\n",
      "- a time,\n"
     ]
    }
   ],
   "source": [
    "import torch.nn.functional as F\n",
    "\n",
    "# Convert logits to probabilities using softmax\n",
    "probabilities = F.softmax(logits, dim=-1)\n",
    "\n",
    "# Select the token with the highest probability\n",
    "predicted_tokens = torch.argmax(probabilities, dim=-1)\n",
    "\n",
    "# Decode the tokens to get the text\n",
    "predicted_text = tokenizer.decode(predicted_tokens[0].tolist(), skip_special_tokens=True)\n",
    "\n",
    "print(probabilities.shape)\n",
    "print(predicted_text)"
   ]
  },
  {
   "cell_type": "markdown",
   "id": "0027932c",
   "metadata": {},
   "source": [
    "Okay the output does not look as we would expect GPT2 to produce. The reason for that is the way we are intereting the output. We are taking argmax over probablities of each token in the input sequence. This is not the right way to interpret the output for auto-regressive models like GPT2. Auto-regressive model takes the generated token and feed it back as input to the model to generate the next token.\n",
    "\n",
    "So we should use the generate() function from model object to generate all the tokens in the sequence as follows:"
   ]
  },
  {
   "cell_type": "code",
   "execution_count": 102,
   "id": "371620e0",
   "metadata": {},
   "outputs": [
    {
     "name": "stderr",
     "output_type": "stream",
     "text": [
      "The attention mask and the pad token id were not set. As a consequence, you may observe unexpected behavior. Please pass your input's `attention_mask` to obtain reliable results.\n",
      "Setting `pad_token_id` to `eos_token_id`:50256 for open-end generation.\n"
     ]
    },
    {
     "name": "stdout",
     "output_type": "stream",
     "text": [
      "once upon a time, I was a little boy, and I was a little boy who was a little boy who was a little boy who was a little boy who was a little boy who was a little boy who was a little boy who was a\n"
     ]
    }
   ],
   "source": [
    "input_text = \"once upon a time\"\n",
    "inputs = tokenizer.encode(input_text, return_tensors=\"pt\", truncation=True) # returns a list of token ids\n",
    "\n",
    "with torch.no_grad():\n",
    "    generated_ids = model.generate(inputs, max_length=50, num_return_sequences=1, temperature=1.0, top_k=50, top_p=0.95)\n",
    "\n",
    "# Convert the generated_ids to text using the tokenizer\n",
    "generated_text = tokenizer.decode(generated_ids[0], skip_special_tokens=True)\n",
    "print(generated_text)"
   ]
  },
  {
   "cell_type": "markdown",
   "id": "4bcace9b",
   "metadata": {},
   "source": [
    "### Custom/Local Models"
   ]
  },
  {
   "cell_type": "code",
   "execution_count": 51,
   "id": "cd6ccf52",
   "metadata": {},
   "outputs": [],
   "source": [
    "# Load a custom model from Hugging Face Hub\n",
    "#model = BertModel.from_pretrained('username/custom-bert-model')\n",
    "\n",
    "# Load a custom model from a local directory (e.g., your own model or previously downloaded model from Hugging Face Hub)\n",
    "#model = BertModel.from_pretrained('/path/to/local/model/directory/')"
   ]
  },
  {
   "cell_type": "markdown",
   "id": "c396ace5",
   "metadata": {},
   "source": [
    "## Huggingface Model Architecture (Text Classifier)\n",
    "\n",
    "A typical Huggingface model architecture for text classification looks like this:"
   ]
  },
  {
   "cell_type": "markdown",
   "id": "fff48453",
   "metadata": {},
   "source": [
    "<img src='../images/hf_model_architecture.png' width=80%>"
   ]
  },
  {
   "cell_type": "markdown",
   "id": "23afba2c-6383-4310-a5c0-db22a2bcb281",
   "metadata": {},
   "source": [
    "There are two options to train such a model:\n",
    "- Feature extraction\n",
    "    - Use a pretrained model and add a classifier on top of it\n",
    "    - Freeze the pretrained model and train the classifier only\n",
    "- Fine-tuning\n",
    "    - Use a pretrained model and train the whole model (including the pretrained model)"
   ]
  },
  {
   "cell_type": "code",
   "execution_count": null,
   "id": "0a878ebf-1ab1-47a6-96f0-307afc994e2b",
   "metadata": {},
   "outputs": [],
   "source": []
  },
  {
   "cell_type": "code",
   "execution_count": null,
   "id": "2345282d-5dba-4b69-99e1-3f87bca0da69",
   "metadata": {},
   "outputs": [],
   "source": []
  }
 ],
 "metadata": {
  "kernelspec": {
   "display_name": "Python 3",
   "language": "python",
   "name": "python3"
  },
  "language_info": {
   "codemirror_mode": {
    "name": "ipython",
    "version": 3
   },
   "file_extension": ".py",
   "mimetype": "text/x-python",
   "name": "python",
   "nbconvert_exporter": "python",
   "pygments_lexer": "ipython3",
   "version": "3.10.12"
  }
 },
 "nbformat": 4,
 "nbformat_minor": 5
}
